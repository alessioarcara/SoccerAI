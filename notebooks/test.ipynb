{
 "cells": [
  {
   "cell_type": "code",
   "execution_count": null,
   "id": "0",
   "metadata": {},
   "outputs": [],
   "source": [
    "%load_ext autoreload\n",
    "%autoreload 2\n",
    "from soccerai.data.data import (\n",
    "    load_and_process_metadata,\n",
    "    load_and_process_rosters,\n",
    "    load_and_process_soccer_events,\n",
    ")\n",
    "from soccerai.data.label import filter_shot_chains, get_chains\n",
    "\n",
    "event_df, players_df = load_and_process_soccer_events(\n",
    "    \"/home/soccerdata/FIFA_WorldCup_2022/Event Data\"\n",
    ")\n",
    "metadata_df = load_and_process_metadata(\"/home/soccerdata/FIFA_WorldCup_2022/Metadata\")\n",
    "rosters_df = load_and_process_rosters(\"/home/soccerdata/FIFA_WorldCup_2022/Rosters\")"
   ]
  },
  {
   "cell_type": "code",
   "execution_count": null,
   "id": "1",
   "metadata": {},
   "outputs": [],
   "source": [
    "chains_dict = get_chains(\n",
    "    event_df, players_df, metadata_df, rosters_df, use_player_pos=True\n",
    ")"
   ]
  },
  {
   "cell_type": "code",
   "execution_count": null,
   "id": "2",
   "metadata": {},
   "outputs": [],
   "source": [
    "accepted_chains = filter_shot_chains(\n",
    "    chains=chains_dict[\"all_neg_chains\"],\n",
    "    chains_range=(300, 400),\n",
    "    event_df=event_df,\n",
    "    players_df=players_df,\n",
    "    metadata_df=metadata_df,\n",
    "    output_dir=\"/home/soccerdata/frames\",\n",
    "    show_video=True,\n",
    "    interval=1000,\n",
    ")"
   ]
  }
 ],
 "metadata": {
  "kernelspec": {
   "display_name": "soccerai",
   "language": "python",
   "name": "python3"
  },
  "language_info": {
   "codemirror_mode": {
    "name": "ipython",
    "version": 3
   },
   "file_extension": ".py",
   "mimetype": "text/x-python",
   "name": "python",
   "nbconvert_exporter": "python",
   "pygments_lexer": "ipython3",
   "version": "3.11.11"
  }
 },
 "nbformat": 4,
 "nbformat_minor": 5
}
