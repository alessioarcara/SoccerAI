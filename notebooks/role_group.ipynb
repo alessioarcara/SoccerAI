{
 "cells": [
  {
   "cell_type": "code",
   "execution_count": 8,
   "id": "c4530398",
   "metadata": {},
   "outputs": [
    {
     "ename": "ImportError",
     "evalue": "cannot import name 'PLAYER_ORIGINAL_ADDITIONAL_PATH' from 'soccerai.data.config' (/home/fbaiocchi/soccerai/soccerai/data/config.py)",
     "output_type": "error",
     "traceback": [
      "\u001b[0;31m---------------------------------------------------------------------------\u001b[0m",
      "\u001b[0;31mImportError\u001b[0m                               Traceback (most recent call last)",
      "Cell \u001b[0;32mIn[8], line 3\u001b[0m\n\u001b[1;32m      1\u001b[0m \u001b[38;5;28;01mimport\u001b[39;00m \u001b[38;5;21;01mpolars\u001b[39;00m \u001b[38;5;28;01mas\u001b[39;00m \u001b[38;5;21;01mpl\u001b[39;00m\n\u001b[0;32m----> 3\u001b[0m \u001b[38;5;28;01mfrom\u001b[39;00m \u001b[38;5;21;01msoccerai\u001b[39;00m\u001b[38;5;21;01m.\u001b[39;00m\u001b[38;5;21;01mdata\u001b[39;00m\u001b[38;5;21;01m.\u001b[39;00m\u001b[38;5;21;01mconfig\u001b[39;00m \u001b[38;5;28;01mimport\u001b[39;00m PLAYER_ORIGINAL_ADDITIONAL_PATH\n\u001b[1;32m      5\u001b[0m players_additional_df \u001b[38;5;241m=\u001b[39m pl\u001b[38;5;241m.\u001b[39mread_csv(PLAYER_ORIGINAL_ADDITIONAL_PATH)\n",
      "\u001b[0;31mImportError\u001b[0m: cannot import name 'PLAYER_ORIGINAL_ADDITIONAL_PATH' from 'soccerai.data.config' (/home/fbaiocchi/soccerai/soccerai/data/config.py)"
     ]
    }
   ],
   "source": [
    "import polars as pl\n",
    "\n",
    "from soccerai.data.config import PLAYER_ORIGINAL_ADDITIONAL_PATH\n",
    "\n",
    "players_additional_df = pl.read_csv(PLAYER_ORIGINAL_ADDITIONAL_PATH)"
   ]
  },
  {
   "cell_type": "code",
   "execution_count": null,
   "id": "e828f253",
   "metadata": {},
   "outputs": [],
   "source": [
    "players_additional_df = (\n",
    "    players_additional_df.unique()[\"positionGroupType\"]\n",
    "    .value_counts()\n",
    "    .sort(by=\"count\", descending=True)\n",
    ")"
   ]
  },
  {
   "cell_type": "code",
   "execution_count": null,
   "id": "cb72140a",
   "metadata": {},
   "outputs": [],
   "source": [
    "players_additional_df.tail(9)"
   ]
  },
  {
   "cell_type": "code",
   "execution_count": null,
   "id": "67abf863",
   "metadata": {},
   "outputs": [],
   "source": [
    "players_additional_df.filter(pl.col(\"positionGroupType\") == \"RCB\")"
   ]
  },
  {
   "cell_type": "code",
   "execution_count": null,
   "id": "e6844997",
   "metadata": {},
   "outputs": [],
   "source": [
    "players_additional_df[\"positionGroupType\"].unique().to_list()"
   ]
  },
  {
   "cell_type": "markdown",
   "id": "3bcba8df",
   "metadata": {},
   "source": [
    "FOWARD - MIDFIELDER - DEFENSIVE - GOALKEEPER \n",
    "\n",
    "DM -> M \n",
    "CM -> M \n",
    "RCB -> D\n",
    "LCB -> D \n",
    "RW -> F\n",
    "LB -> D\n",
    "RB -> D\n",
    "LW -> A\n",
    "CF -> F"
   ]
  },
  {
   "cell_type": "code",
   "execution_count": null,
   "id": "e0bc941b",
   "metadata": {},
   "outputs": [],
   "source": [
    "players_additional_df = players_additional_df.with_columns(\n",
    "    pl.when(pl.col(\"positionGroupType\").is_in([\"DM\", \"CM\"]))\n",
    "    .then(pl.lit(\"M\"))\n",
    "    .when(pl.col(\"positionGroupType\").is_in([\"RCB\", \"LCB\", \"LB\", \"RB\"]))\n",
    "    .then(pl.lit(\"D\"))\n",
    "    .when(pl.col(\"positionGroupType\").is_in([\"RW\", \"CF\", \"LW\"]))\n",
    "    .then(pl.lit(\"F\"))\n",
    "    .otherwise(pl.col(\"positionGroupType\"))\n",
    "    .alias(\"positionGroupType\")\n",
    ")"
   ]
  },
  {
   "cell_type": "code",
   "execution_count": null,
   "id": "f29b0c60",
   "metadata": {},
   "outputs": [],
   "source": [
    "players_additional_df[\"positionGroupType\"].value_counts()"
   ]
  },
  {
   "cell_type": "code",
   "execution_count": null,
   "id": "4858f8f1",
   "metadata": {},
   "outputs": [],
   "source": [
    "players_additional_df.write_csv(\"player.csv\")"
   ]
  }
 ],
 "metadata": {
  "kernelspec": {
   "display_name": "soccerai",
   "language": "python",
   "name": "python3"
  },
  "language_info": {
   "codemirror_mode": {
    "name": "ipython",
    "version": 3
   },
   "file_extension": ".py",
   "mimetype": "text/x-python",
   "name": "python",
   "nbconvert_exporter": "python",
   "pygments_lexer": "ipython3",
   "version": "3.11.11"
  }
 },
 "nbformat": 4,
 "nbformat_minor": 5
}
