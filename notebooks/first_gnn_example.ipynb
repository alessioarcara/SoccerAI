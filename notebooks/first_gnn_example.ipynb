{
 "cells": [
  {
   "cell_type": "code",
   "execution_count": null,
   "id": "0",
   "metadata": {},
   "outputs": [],
   "source": [
    "# import os.path as osp\n",
    "\n",
    "import polars as pl\n",
    "import torch\n",
    "import torch.nn.functional as F\n",
    "from torch_geometric.data import Data, InMemoryDataset\n",
    "from torch_geometric.nn import GCNConv\n",
    "from torch_geometric.seed import seed_everything"
   ]
  },
  {
   "cell_type": "code",
   "execution_count": null,
   "id": "1",
   "metadata": {},
   "outputs": [],
   "source": [
    "device = torch.device(\"cuda\" if torch.cuda.is_available() else \"cpu\")\n",
    "print(device)\n",
    "seed_everything(42)"
   ]
  },
  {
   "cell_type": "code",
   "execution_count": null,
   "id": "2",
   "metadata": {},
   "outputs": [],
   "source": [
    "df = pl.read_parquet(\n",
    "    \"/home/aarcara/soccerai/soccerai/data/resources/raw/dataset.parquet\"\n",
    ")"
   ]
  },
  {
   "cell_type": "markdown",
   "id": "3",
   "metadata": {},
   "source": [
    "index\n",
    "gameId\n",
    "gameEventId\n",
    "possessionEventId\n",
    "startTime\n",
    "endTime\n"
   ]
  },
  {
   "cell_type": "code",
   "execution_count": null,
   "id": "4",
   "metadata": {},
   "outputs": [],
   "source": [
    "df[\"duration\"].mean()"
   ]
  },
  {
   "cell_type": "code",
   "execution_count": null,
   "id": "5",
   "metadata": {},
   "outputs": [],
   "source": [
    "df[\"duration\"].var()"
   ]
  },
  {
   "cell_type": "code",
   "execution_count": null,
   "id": "6",
   "metadata": {},
   "outputs": [],
   "source": [
    "df.columns"
   ]
  },
  {
   "cell_type": "code",
   "execution_count": null,
   "id": "7",
   "metadata": {},
   "outputs": [],
   "source": [
    "df.describe()"
   ]
  },
  {
   "cell_type": "code",
   "execution_count": null,
   "id": "8",
   "metadata": {},
   "outputs": [],
   "source": [
    "df[\"playerRole\"].to_dummies()"
   ]
  },
  {
   "cell_type": "code",
   "execution_count": null,
   "id": "9",
   "metadata": {},
   "outputs": [],
   "source": [
    "# X[\"possessionEventType\"].value_counts()"
   ]
  },
  {
   "cell_type": "code",
   "execution_count": null,
   "id": "10",
   "metadata": {},
   "outputs": [],
   "source": [
    "402447 / 22"
   ]
  },
  {
   "cell_type": "code",
   "execution_count": null,
   "id": "11",
   "metadata": {},
   "outputs": [],
   "source": [
    "# X"
   ]
  },
  {
   "cell_type": "code",
   "execution_count": null,
   "id": "12",
   "metadata": {},
   "outputs": [],
   "source": [
    "df.with_columns(pl.col(\"frameTime\").str.split(\":\").list.get(0))"
   ]
  },
  {
   "cell_type": "code",
   "execution_count": null,
   "id": "13",
   "metadata": {},
   "outputs": [],
   "source": [
    "# X[\"possessionEventType\"].value_counts()"
   ]
  },
  {
   "cell_type": "code",
   "execution_count": null,
   "id": "14",
   "metadata": {},
   "outputs": [],
   "source": [
    "# labeled_events_df = event_df.with_columns(\n",
    "#     pl.when(pl.col(\"index\").is_in(pos_indices))\n",
    "#     .then(1)\n",
    "#     .when(pl.col(\"index\").is_in(neg_indices))\n",
    "#     .then(0)\n",
    "#     .otherwise(None)\n",
    "#     .alias(\"label\")\n",
    "# ).filter(pl.col(\"label\").is_not_null())\n"
   ]
  },
  {
   "cell_type": "code",
   "execution_count": null,
   "id": "15",
   "metadata": {},
   "outputs": [],
   "source": [
    "# X[\"playerRole\"].value_counts()"
   ]
  },
  {
   "cell_type": "code",
   "execution_count": null,
   "id": "16",
   "metadata": {},
   "outputs": [],
   "source": [
    "X = df.drop(\n",
    "    [\n",
    "        \"gameEventType\",\n",
    "        \"index\",\n",
    "        \"gameId\",\n",
    "        \"startTime\",\n",
    "        \"endTime\",\n",
    "        \"index_right\",\n",
    "        \"gameId_right\",\n",
    "        \"jerseyNum\",\n",
    "        \"visibility\",\n",
    "        \"z\",\n",
    "        \"videoUrl\",\n",
    "        \"homeTeamName\",\n",
    "        \"awayTeamName\",\n",
    "        \"Age Info\",\n",
    "        \"Full Name\",\n",
    "        \"Height\",\n",
    "        \"birth_date\",\n",
    "    ]\n",
    ")\n",
    "X = X.filter(pl.col(\"team\").is_not_null())\n",
    "X = X.filter(pl.col(\"possessionEventType\") != \"SH\")\n",
    "X = X.filter(pl.col(\"playerName\").is_not_null())\n",
    "X = X.with_columns(\n",
    "    (\n",
    "        pl.col(\"frameTime\").str.split(\":\").list.get(0).cast(pl.UInt16) * 60\n",
    "        + pl.col(\"frameTime\").str.split(\":\").list.get(1).cast(pl.UInt16)\n",
    "    ).alias(\"frameTime\"),\n",
    "    (\n",
    "        pl.when(pl.col(\"playerName\") == pl.col(\"playerName_right\")).then(1).otherwise(0)\n",
    "    ).alias(\"ballPossession\"),\n",
    "    (pl.col(\"Weight\").str.replace(\"kg\", \"\").cast(pl.UInt8)),\n",
    "    (pl.col(\"height_cm\").cast(pl.UInt8)),\n",
    ")\n",
    "X = X.drop([\"playerName\", \"playerName_right\"])\n",
    "X = X.to_dummies([\"possessionEventType\"])\n",
    "X"
   ]
  },
  {
   "cell_type": "code",
   "execution_count": null,
   "id": "17",
   "metadata": {},
   "outputs": [],
   "source": []
  },
  {
   "cell_type": "markdown",
   "id": "18",
   "metadata": {},
   "source": [
    "teniamo:\n",
    "per il tempo\n",
    "- frameTime (convertire in secondi)\n",
    "- duration\n",
    "- possessionEventType (OneHot)\n",
    "- playerName va trasformato in un valore booleano che indica il giocatore che ha la palla ma di quel nodo (ovvero playerName == playerName_right)\n",
    "- si tiene team per partizionare i giocatori in due squadre (OneHot) (perchè non ordinale? Trello)\n",
    "- indicare anche il Team che ha la palla (booleano)\n",
    "- x, y\n",
    "- velocity\n",
    "- direction\n",
    "- playerId (oneHot)\n",
    "- playerRole (oneHot)\n",
    "- height\n",
    "- weight\n",
    "- age\n",
    "- goals\n",
    "- shots\n",
    "\n",
    "\n",
    "togliamo:\n",
    "- index\n",
    "- gameId\n",
    "- gameEventId\n",
    "- possessionEventId\n",
    "- startTime\n",
    "- endTime\n",
    "- gameEventType\n",
    "- teamName va droppato per i motivi spiegati (da scrivere su Trello)\n",
    "- videoUrl\n",
    "- z si droppa\n",
    "- tutte le righe con la palla si droppano\n",
    "- label si droppa da X\n",
    "- index_right\n",
    "- gameId_right\n",
    "- jerseyNum\n",
    "- visibility\n",
    "- homeTeamName\n",
    "- awayTeamName\n",
    "- playerName_right\n",
    "- Full Name\n",
    "- birthdate\n",
    "\n",
    "\n",
    "\n",
    "vogliamo far sapere alla rete che squadra sta giocando? e forza una sorta di conoscenza della squadra all'intenro della rete stessa?\n",
    "SIAMO DUBBIOSI"
   ]
  },
  {
   "cell_type": "code",
   "execution_count": null,
   "id": "19",
   "metadata": {},
   "outputs": [],
   "source": [
    "df"
   ]
  },
  {
   "cell_type": "code",
   "execution_count": null,
   "id": "20",
   "metadata": {},
   "outputs": [],
   "source": [
    "from enum import Enum\n",
    "\n",
    "\n",
    "class SupportedConnectionMode(Enum):\n",
    "    FULLY_CONNECTED = \"fully_connected\"\n",
    "\n",
    "\n",
    "class WorldCup2022Dataset(InMemoryDataset):\n",
    "    def __init__(self, root, mode, transform=None):\n",
    "        self.mode = mode\n",
    "        super().__init__(root, transform)\n",
    "\n",
    "    @property\n",
    "    def raw_file_names(self):\n",
    "        return \"dataset.parquet\"\n",
    "\n",
    "    @property\n",
    "    def processed_file_names(self):\n",
    "        return \"data.pt\"\n",
    "\n",
    "    def process(self):\n",
    "        df = pl.read_parquet(self.raw_paths[0])\n",
    "        data_list = self.convert_df_to_data_list(df)\n",
    "\n",
    "        anomalous_frames = (\n",
    "            df.group_by(\"gameEventId\", \"possessionEventId\")\n",
    "            .len()\n",
    "            .filter(pl.col(\"len\") > 23)\n",
    "        )\n",
    "        event_ids_to_drop = anomalous_frames[\"gameEventId\"].to_list()\n",
    "        possession_ids_to_drop = anomalous_frames[\"possessionEventId\"].to_list()\n",
    "        df_cleaned = df.filter(\n",
    "            ~(\n",
    "                (pl.col(\"gameEventId\").is_in(event_ids_to_drop))\n",
    "                & (pl.col(\"possessionEventId\").is_in(possession_ids_to_drop))\n",
    "            )\n",
    "        )\n",
    "        data_list = self.convert_df_to_data_list(df_cleaned)\n",
    "        self.save(data_list, self.processed_paths[0])\n",
    "\n",
    "    def create_edge_index(self):\n",
    "        if self.mode == SupportedConnectionMode.FULLY_CONNECTED:\n",
    "            src = []\n",
    "            dst = []\n",
    "            for i in range(22):\n",
    "                src += [i] * 21\n",
    "                for j in range(22):\n",
    "                    if i != j:\n",
    "                        dst += [j]\n",
    "            return torch.tensor([src, dst], dtype=torch.long)\n",
    "\n",
    "    def convert_df_to_data_list(self, df: pl.DataFrame):\n",
    "        data_list = []\n",
    "        for _, event_df in df.group_by([\"gameEventId\", \"possessionEventId\"]):\n",
    "            edge_idx = self.create_edge_index()\n",
    "\n",
    "            x = []\n",
    "            for i in range(22):\n",
    "                x.append(list(event_df.row(i, named=True).values()))\n",
    "            x = torch.tensor(x, dtype=torch.float)\n",
    "\n",
    "            y = torch.tensor(event_df[\"label\"][0], dtype=torch.long)\n",
    "\n",
    "            data_list.append(Data(x=x, edge_index=edge_idx, y=y))\n",
    "        return data_list\n",
    "\n",
    "\n",
    "dataset = WorldCup2022Dataset(\n",
    "    root=\"/home/aarcara/soccerai/soccerai/data/resources\", mode=\"fully_connected\"\n",
    ")"
   ]
  },
  {
   "cell_type": "code",
   "execution_count": null,
   "id": "21",
   "metadata": {},
   "outputs": [],
   "source": [
    "df"
   ]
  },
  {
   "cell_type": "code",
   "execution_count": null,
   "id": "22",
   "metadata": {},
   "outputs": [],
   "source": [
    "anomalous_frames = (\n",
    "    df.group_by(\"gameEventId\", \"possessionEventId\")\n",
    "    .agg(pl.col(\"index\").count())\n",
    "    .filter(pl.col(\"index\") != 23)\n",
    ")\n",
    "event_ids_to_drop = anomalous_frames[\"gameEventId\"].to_list()\n",
    "possession_ids_to_drop = anomalous_frames[\"possessionEventId\"].to_list()\n",
    "df_cleaned = df.filter(\n",
    "    ~(\n",
    "        (pl.col(\"gameEventId\").is_in(event_ids_to_drop))\n",
    "        & (pl.col(\"possessionEventId\").is_in(possession_ids_to_drop))\n",
    "    )\n",
    ")\n",
    "df_cleaned.group_by(\"gameEventId\", \"possessionEventId\").agg(\n",
    "    pl.col(\"index\").count()\n",
    ").filter(pl.col(\"index\") != 23)"
   ]
  },
  {
   "cell_type": "code",
   "execution_count": null,
   "id": "23",
   "metadata": {},
   "outputs": [],
   "source": [
    "class GCN(torch.nn.Module):\n",
    "    def init(self, dataset):\n",
    "        super().init()\n",
    "        self.conv1 = GCNConv(dataset.num_node_features, 16)\n",
    "        self.conv2 = GCNConv(16, dataset.num_classes)\n",
    "\n",
    "    def forward(self, data):\n",
    "        x, edge_index = data.x, data.edge_index\n",
    "\n",
    "        x = self.conv1(x, edge_index)\n",
    "        x = F.relu(x)\n",
    "        x = F.dropout(x, training=self.training)\n",
    "        x = self.conv2(x, edge_index)\n",
    "\n",
    "        return F.log_softmax(x, dim=1)"
   ]
  },
  {
   "cell_type": "code",
   "execution_count": null,
   "id": "24",
   "metadata": {},
   "outputs": [],
   "source": [
    "df[\"label\"].value_counts()"
   ]
  },
  {
   "cell_type": "code",
   "execution_count": null,
   "id": "25",
   "metadata": {},
   "outputs": [],
   "source": [
    "df.describe()"
   ]
  },
  {
   "cell_type": "code",
   "execution_count": null,
   "id": "26",
   "metadata": {},
   "outputs": [],
   "source": []
  }
 ],
 "metadata": {
  "kernelspec": {
   "display_name": "soccerai",
   "language": "python",
   "name": "python3"
  },
  "language_info": {
   "codemirror_mode": {
    "name": "ipython",
    "version": 3
   },
   "file_extension": ".py",
   "mimetype": "text/x-python",
   "name": "python",
   "nbconvert_exporter": "python",
   "pygments_lexer": "ipython3",
   "version": "3.11.11"
  }
 },
 "nbformat": 4,
 "nbformat_minor": 5
}
