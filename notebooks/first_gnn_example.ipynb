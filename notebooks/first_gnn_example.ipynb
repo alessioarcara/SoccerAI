{
 "cells": [
  {
   "cell_type": "code",
   "execution_count": null,
   "id": "0",
   "metadata": {},
   "outputs": [],
   "source": [
    "import torch\n",
    "from torch_geometric.nn import GCNConv\n",
    "\n",
    "from soccerai.data.dataset import WorldCup2022Dataset"
   ]
  },
  {
   "cell_type": "code",
   "execution_count": null,
   "id": "1",
   "metadata": {},
   "outputs": [],
   "source": [
    "device = torch.device(\"cuda\" if torch.cuda.is_available() else \"cpu\")"
   ]
  },
  {
   "cell_type": "markdown",
   "id": "2",
   "metadata": {},
   "source": [
    "index\n",
    "gameId\n",
    "gameEventId\n",
    "possessionEventId\n",
    "startTime\n",
    "endTime\n"
   ]
  },
  {
   "cell_type": "markdown",
   "id": "3",
   "metadata": {},
   "source": [
    "teniamo:\n",
    "per il tempo\n",
    "- frameTime (convertire in secondi)\n",
    "- duration\n",
    "- possessionEventType (OneHot)\n",
    "- playerName va trasformato in un valore booleano che indica il giocatore che ha la palla ma di quel nodo (ovvero playerName == playerName_right)\n",
    "- si tiene team per partizionare i giocatori in due squadre (OneHot) (perchè non ordinale? Trello)\n",
    "- indicare anche il Team che ha la palla (booleano)\n",
    "- x, y\n",
    "- velocity\n",
    "- direction\n",
    "- playerId (oneHot)\n",
    "- playerRole (oneHot)\n",
    "- height\n",
    "- weight\n",
    "- age\n",
    "- goals\n",
    "- shots\n",
    "\n",
    "\n",
    "togliamo:\n",
    "- index\n",
    "- gameId\n",
    "- gameEventId\n",
    "- possessionEventId\n",
    "- startTime\n",
    "- endTime\n",
    "- gameEventType\n",
    "- teamName va droppato per i motivi spiegati (da scrivere su Trello)\n",
    "- videoUrl\n",
    "- z si droppa\n",
    "- tutte le righe con la palla si droppano\n",
    "- label si droppa da X\n",
    "- index_right\n",
    "- gameId_right\n",
    "- jerseyNum\n",
    "- visibility\n",
    "- homeTeamName\n",
    "- awayTeamName\n",
    "- playerName_right\n",
    "- Full Name\n",
    "- birthdate\n",
    "\n",
    "\n",
    "\n",
    "vogliamo far sapere alla rete che squadra sta giocando? e forza una sorta di conoscenza della squadra all'intenro della rete stessa?\n",
    "SIAMO DUBBIOSI"
   ]
  },
  {
   "cell_type": "code",
   "execution_count": null,
   "id": "4",
   "metadata": {},
   "outputs": [],
   "source": [
    "dataset = WorldCup2022Dataset(\n",
    "    \"/home/aarcara/soccerai/soccerai/data/resources\", \"fully_connected\"\n",
    ")\n",
    "dataset.process()"
   ]
  },
  {
   "cell_type": "code",
   "execution_count": null,
   "id": "5",
   "metadata": {},
   "outputs": [],
   "source": [
    "import torch.nn.functional as F\n",
    "from torch.nn import Linear\n",
    "from torch_geometric.nn import global_add_pool\n",
    "\n",
    "\n",
    "class GCN(torch.nn.Module):\n",
    "    def __init__(self, hidden_channels):\n",
    "        super(GCN, self).__init__()\n",
    "        self.conv1 = GCNConv(dataset.num_node_features, hidden_channels)\n",
    "        self.conv2 = GCNConv(hidden_channels, hidden_channels)\n",
    "        self.lin = Linear(hidden_channels, 1)\n",
    "\n",
    "    def forward(self, data):\n",
    "        x, edge_index, batch = data.x, data.edge_index, data.batch\n",
    "\n",
    "        x = self.conv1(x, edge_index)\n",
    "        x = F.relu(x)\n",
    "        x = self.conv2(x, edge_index)\n",
    "\n",
    "        x = global_add_pool(x, batch)\n",
    "\n",
    "        x = F.dropout(x, p=0.5, training=self.training)\n",
    "        x = self.lin(x)\n",
    "\n",
    "        return x\n",
    "\n",
    "\n",
    "model = GCN(hidden_channels=64)\n",
    "model.to(device)\n",
    "data = dataset[0].to(device)\n",
    "model(data)"
   ]
  },
  {
   "cell_type": "code",
   "execution_count": null,
   "id": "6",
   "metadata": {},
   "outputs": [],
   "source": [
    "import os\n",
    "\n",
    "import torch\n",
    "import torch.nn as nn\n",
    "from torch_geometric.loader import DataLoader\n",
    "from tqdm.notebook import tqdm\n",
    "\n",
    "criterion = nn.BCEWithLogitsLoss()\n",
    "optimizer = torch.optim.Adam(model.parameters(), lr=0.01)\n",
    "\n",
    "loader = DataLoader(\n",
    "    dataset[:-2],\n",
    "    128,\n",
    "    num_workers=os.cpu_count() - 1,\n",
    "    shuffle=True,\n",
    "    pin_memory=True,\n",
    "    persistent_workers=True,\n",
    ")"
   ]
  },
  {
   "cell_type": "code",
   "execution_count": null,
   "id": "7",
   "metadata": {},
   "outputs": [],
   "source": [
    "dataset[0].x"
   ]
  },
  {
   "cell_type": "code",
   "execution_count": null,
   "id": "8",
   "metadata": {},
   "outputs": [],
   "source": [
    "!pip install tabulate"
   ]
  },
  {
   "cell_type": "code",
   "execution_count": null,
   "id": "9",
   "metadata": {},
   "outputs": [],
   "source": [
    "from torch_geometric.nn import summary\n",
    "\n",
    "print(summary(model, dataset[0].to(device)))"
   ]
  },
  {
   "cell_type": "code",
   "execution_count": null,
   "id": "10",
   "metadata": {},
   "outputs": [],
   "source": [
    "for param in model.parameters():\n",
    "    print(param.size())"
   ]
  },
  {
   "cell_type": "code",
   "execution_count": null,
   "id": "11",
   "metadata": {},
   "outputs": [],
   "source": [
    "model.train()\n",
    "for epoch in tqdm(range(100), desc=\"Epoch\"):\n",
    "    for batch in tqdm(loader, desc=\"Batch\", leave=False):\n",
    "        optimizer.zero_grad()\n",
    "\n",
    "        batch.to(device, non_blocking=True)\n",
    "\n",
    "        out = model(batch)\n",
    "\n",
    "        loss = criterion(out, batch.y.float().unsqueeze(1))\n",
    "\n",
    "        loss.backward()\n",
    "        optimizer.step()"
   ]
  },
  {
   "cell_type": "code",
   "execution_count": null,
   "id": "12",
   "metadata": {},
   "outputs": [],
   "source": [
    "dataset[-7].y"
   ]
  },
  {
   "cell_type": "code",
   "execution_count": null,
   "id": "13",
   "metadata": {},
   "outputs": [],
   "source": [
    "F.sigmoid(model(dataset[-7].to(device)))"
   ]
  },
  {
   "cell_type": "code",
   "execution_count": null,
   "id": "14",
   "metadata": {},
   "outputs": [],
   "source": []
  }
 ],
 "metadata": {
  "kernelspec": {
   "display_name": "soccerai",
   "language": "python",
   "name": "python3"
  },
  "language_info": {
   "codemirror_mode": {
    "name": "ipython",
    "version": 3
   },
   "file_extension": ".py",
   "mimetype": "text/x-python",
   "name": "python",
   "nbconvert_exporter": "python",
   "pygments_lexer": "ipython3",
   "version": "3.11.11"
  }
 },
 "nbformat": 4,
 "nbformat_minor": 5
}
