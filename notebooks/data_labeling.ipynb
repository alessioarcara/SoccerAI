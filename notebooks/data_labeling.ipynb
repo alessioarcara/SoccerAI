{
 "cells": [
  {
   "cell_type": "code",
   "execution_count": 3,
   "metadata": {},
   "outputs": [
    {
     "name": "stdout",
     "output_type": "stream",
     "text": [
      "The autoreload extension is already loaded. To reload it, use:\n",
      "  %reload_ext autoreload\n"
     ]
    }
   ],
   "source": [
    "%load_ext autoreload\n",
    "%autoreload 2\n",
    "import numpy as np\n",
    "\n",
    "from soccerai.data.data import load_and_process_metadata, load_and_process_soccer_events\n",
    "from soccerai.data.label import filter_shot_chains, neg_labeling, pos_labeling\n",
    "from soccerai.data.utils import save_accepted_chains"
   ]
  },
  {
   "cell_type": "code",
   "execution_count": 4,
   "metadata": {},
   "outputs": [],
   "source": [
    "event_df, players_df = load_and_process_soccer_events(\n",
    "    \"/home/soccerdata/FIFA_WorldCup_2022/Event Data\"\n",
    ")\n",
    "metadata_df = load_and_process_metadata(\"/home/soccerdata/FIFA_WorldCup_2022/Metadata\")"
   ]
  },
  {
   "cell_type": "code",
   "execution_count": null,
   "metadata": {},
   "outputs": [
    {
     "name": "stdout",
     "output_type": "stream",
     "text": [
      "Number of original positive chains: 712\n",
      "Number of original negative chains: 1588\n",
      "Total number of original positive events: 2128\n",
      "Total number of augmented positive events: 8512\n"
     ]
    }
   ],
   "source": [
    "chain_len = 6\n",
    "pos_chains_short, pos_chains_long = pos_labeling(event_df, chain_len)\n",
    "neg_chains_short, neg_chains_long = neg_labeling(\n",
    "    event_df, players_df, metadata_df, chain_len, 25.0\n",
    ")\n",
    "print(f\"Number of original positive chains: {len(pos_chains_short)}\")\n",
    "print(f\"Number of original negative chains: {len(neg_chains_short)}\")\n",
    "\n",
    "total_positive_events = np.sum([len(chain) for chain in pos_chains_short])\n",
    "print(f\"Total number of original positive events: {total_positive_events}\")\n",
    "print(f\"Total number of augmented positive events: {total_positive_events * 4}\")"
   ]
  },
  {
   "cell_type": "markdown",
   "metadata": {},
   "source": [
    "Total: 736-1105\n",
    "\n",
    "Currently: 751-761"
   ]
  },
  {
   "cell_type": "code",
   "execution_count": null,
   "metadata": {},
   "outputs": [
    {
     "data": {
      "application/vnd.jupyter.widget-view+json": {
       "model_id": "2c637cb921ca4cc2b528d6f8137ac431",
       "version_major": 2,
       "version_minor": 0
      },
      "text/plain": [
       "VBox(children=(Output(), Output(), HBox(children=(Button(button_style='success', description='Accept Chain', l…"
      ]
     },
     "metadata": {},
     "output_type": "display_data"
    }
   ],
   "source": [
    "accepted_chains = filter_shot_chains(\n",
    "    chains=pos_chains_short,\n",
    "    chains_range=(771, 781),\n",
    "    event_df=event_df,\n",
    "    players_df=players_df,\n",
    "    metadata_df=metadata_df,\n",
    "    output_dir=\"/home/soccerdata/frames\",\n",
    "    show_video=True,\n",
    "    interval=1000,\n",
    ")"
   ]
  },
  {
   "cell_type": "markdown",
   "metadata": {},
   "source": [
    "457 discarded"
   ]
  },
  {
   "cell_type": "code",
   "execution_count": 24,
   "metadata": {},
   "outputs": [
    {
     "data": {
      "text/plain": [
       "(64088,\n",
       " 10507,\n",
       " 6643494,\n",
       " 6525598.0,\n",
       " 1086.053,\n",
       " 1086.053,\n",
       " 0.0,\n",
       " 'OTB',\n",
       " 'PA',\n",
       " 'South Korea',\n",
       " 'Heung-min Son',\n",
       " 'https://epitome.pff.com/en/film_room/97895a42-b69b-4fbf-97a3-d2d0f1c38e98/1086.053',\n",
       " '16:33')"
      ]
     },
     "execution_count": 24,
     "metadata": {},
     "output_type": "execute_result"
    }
   ],
   "source": [
    "event_df.row(64088)"
   ]
  },
  {
   "cell_type": "code",
   "execution_count": 25,
   "metadata": {},
   "outputs": [],
   "source": [
    "save_accepted_chains(\n",
    "    accepted_chains=accepted_chains,\n",
    "    dst_dir=\"../soccerai/data/resources\",\n",
    "    are_positive=True,\n",
    ")"
   ]
  },
  {
   "cell_type": "code",
   "execution_count": null,
   "metadata": {},
   "outputs": [],
   "source": []
  }
 ],
 "metadata": {
  "kernelspec": {
   "display_name": "base",
   "language": "python",
   "name": "python3"
  },
  "language_info": {
   "codemirror_mode": {
    "name": "ipython",
    "version": 3
   },
   "file_extension": ".py",
   "mimetype": "text/x-python",
   "name": "python",
   "nbconvert_exporter": "python",
   "pygments_lexer": "ipython3",
   "version": "3.12.9"
  }
 },
 "nbformat": 4,
 "nbformat_minor": 4
}
