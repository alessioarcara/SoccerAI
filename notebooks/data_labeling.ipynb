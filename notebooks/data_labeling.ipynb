{
 "cells": [
  {
   "cell_type": "code",
   "execution_count": null,
   "metadata": {},
   "outputs": [],
   "source": [
    "%load_ext autoreload\n",
    "%autoreload 2\n",
    "from soccerai.data.data import (\n",
    "    load_and_process_metadata,\n",
    "    load_and_process_rosters,\n",
    "    load_and_process_soccer_events,\n",
    ")\n",
    "from soccerai.data.label import filter_shot_chains, get_chains\n",
    "from soccerai.data.utils import save_accepted_chains"
   ]
  },
  {
   "cell_type": "code",
   "execution_count": null,
   "metadata": {},
   "outputs": [],
   "source": [
    "event_df, players_df = load_and_process_soccer_events(\n",
    "    \"/home/soccerdata/FIFA_WorldCup_2022/Event Data\"\n",
    ")\n",
    "metadata_df = load_and_process_metadata(\"/home/soccerdata/FIFA_WorldCup_2022/Metadata\")\n",
    "rosters_df = load_and_process_rosters(\"/home/soccerdata/FIFA_WorldCup_2022/Rosters\")"
   ]
  },
  {
   "cell_type": "code",
   "execution_count": null,
   "metadata": {},
   "outputs": [],
   "source": [
    "chains_dict = get_chains(event_df, players_df, metadata_df, rosters_df)"
   ]
  },
  {
   "cell_type": "markdown",
   "metadata": {},
   "source": [
    "393 long pos chains <br>\n",
    "712 short pos chains"
   ]
  },
  {
   "cell_type": "code",
   "execution_count": null,
   "metadata": {},
   "outputs": [],
   "source": [
    "accepted_chains = filter_shot_chains(\n",
    "    chains=chains_dict[\"all_pos_chains\"],\n",
    "    chains_range=(1, 10),\n",
    "    event_df=event_df,\n",
    "    players_df=players_df,\n",
    "    metadata_df=metadata_df,\n",
    "    output_dir=\"/home/soccerdata/frames\",\n",
    "    show_video=True,\n",
    "    interval=1000,\n",
    ")"
   ]
  },
  {
   "cell_type": "markdown",
   "metadata": {},
   "source": [
    "457 discarded"
   ]
  },
  {
   "cell_type": "code",
   "execution_count": null,
   "metadata": {},
   "outputs": [],
   "source": [
    "event_df.row(587)"
   ]
  },
  {
   "cell_type": "code",
   "execution_count": null,
   "metadata": {},
   "outputs": [],
   "source": [
    "save_accepted_chains(\n",
    "    accepted_chains=accepted_chains,\n",
    "    dst_dir=\"../soccerai/data/resources\",\n",
    "    are_positive=False,\n",
    ")"
   ]
  },
  {
   "cell_type": "code",
   "execution_count": null,
   "metadata": {},
   "outputs": [],
   "source": []
  }
 ],
 "metadata": {
  "kernelspec": {
   "display_name": "soccerai",
   "language": "python",
   "name": "python3"
  },
  "language_info": {
   "codemirror_mode": {
    "name": "ipython",
    "version": 3
   },
   "file_extension": ".py",
   "mimetype": "text/x-python",
   "name": "python",
   "nbconvert_exporter": "python",
   "pygments_lexer": "ipython3",
   "version": "3.11.11"
  }
 },
 "nbformat": 4,
 "nbformat_minor": 4
}
