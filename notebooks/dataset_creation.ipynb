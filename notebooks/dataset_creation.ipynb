{
 "cells": [
  {
   "cell_type": "code",
   "execution_count": null,
   "id": "0",
   "metadata": {},
   "outputs": [],
   "source": [
    "%load_ext autoreload\n",
    "%autoreload 2\n",
    "\n",
    "from soccerai.data.data import create_dataset\n",
    "\n",
    "df = create_dataset(\"prova.parquet\")"
   ]
  },
  {
   "cell_type": "code",
   "execution_count": null,
   "id": "1",
   "metadata": {},
   "outputs": [],
   "source": [
    "import polars as pl\n",
    "\n",
    "df = pl.read_parquet(\"prova.parquet\")\n",
    "print(df[\"possessionEventType\"].value_counts())"
   ]
  },
  {
   "cell_type": "code",
   "execution_count": null,
   "id": "2",
   "metadata": {},
   "outputs": [],
   "source": [
    "df"
   ]
  },
  {
   "cell_type": "code",
   "execution_count": null,
   "id": "3",
   "metadata": {},
   "outputs": [],
   "source": [
    "df.filter(pl.col(\"jerseyNum\").is_null())"
   ]
  },
  {
   "cell_type": "markdown",
   "id": "4",
   "metadata": {},
   "source": [
    "* trasformare `playerName_right` e `playerName`, se == allora -> valore booleano 1 che indica il possesso della palla, altrimenti 0. Droppare successivamente `playerName_right`, `playerName` `Full Name`.\n",
    "* `teamName` -> OneHotEncoding?\n",
    "* `playerRole` -> trasformazione?\n",
    "* bisogna assolutamente togliere i frames dello shot dalle catene positive\n",
    "* caricare dataset -> preprocessing banale -> trasformazione in grafo -> training GCN?\n",
    "* `possessionEventType` lo userei per taggare gli edge\n",
    "* quanto dura un evento è importante? (`startTime`, `endTime`, `duration`)\n",
    "* `frameTime` ci indicherebbe a che punto della partita siamo!\n",
    "* sviluppo futuro: aggiungere informazioni della squadra precedenti negli ultimi 4 anni\n",
    "* fare brainstorming sulla palla, il nodo palla\n",
    "* grafo spesso omogeneo, nodi -> giocatori, archi interazioni on ball\n",
    "* il team che ha possesso palla (playerName che abbiamo dall'evento e il suo team corrisponde al team attaccante, altrimenti sarà non attaccante)\n",
    "* il grafo è omogeno in counterattacks"
   ]
  },
  {
   "cell_type": "code",
   "execution_count": null,
   "id": "5",
   "metadata": {},
   "outputs": [],
   "source": [
    "print(df.height)"
   ]
  },
  {
   "cell_type": "code",
   "execution_count": null,
   "id": "6",
   "metadata": {},
   "outputs": [],
   "source": [
    "df.null_count()"
   ]
  },
  {
   "cell_type": "code",
   "execution_count": null,
   "id": "7",
   "metadata": {},
   "outputs": [],
   "source": []
  }
 ],
 "metadata": {
  "kernelspec": {
   "display_name": "soccerai",
   "language": "python",
   "name": "python3"
  },
  "language_info": {
   "codemirror_mode": {
    "name": "ipython",
    "version": 3
   },
   "file_extension": ".py",
   "mimetype": "text/x-python",
   "name": "python",
   "nbconvert_exporter": "python",
   "pygments_lexer": "ipython3",
   "version": "3.11.11"
  }
 },
 "nbformat": 4,
 "nbformat_minor": 5
}
