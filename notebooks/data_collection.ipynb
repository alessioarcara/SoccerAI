{
 "cells": [
  {
   "cell_type": "code",
   "execution_count": null,
   "metadata": {},
   "outputs": [],
   "source": [
    "%load_ext autoreload\n",
    "%autoreload 2\n",
    "from soccerai.data.data import (\n",
    "    create_dataset,\n",
    "    load_and_process_metadata,\n",
    "    load_and_process_rosters,\n",
    "    load_and_process_soccer_events,\n",
    ")\n",
    "from soccerai.data.label import filter_shot_chains, get_chains\n",
    "from soccerai.data.utils import save_accepted_chains"
   ]
  },
  {
   "cell_type": "code",
   "execution_count": null,
   "metadata": {},
   "outputs": [],
   "source": [
    "event_df, players_df = load_and_process_soccer_events(\n",
    "    \"/home/soccerdata/FIFA_WorldCup_2022/Event Data\", True\n",
    ")\n",
    "metadata_df = load_and_process_metadata(\"/home/soccerdata/FIFA_WorldCup_2022/Metadata\")\n",
    "rosters_df = load_and_process_rosters(\"/home/soccerdata/FIFA_WorldCup_2022/Rosters\")"
   ]
  },
  {
   "cell_type": "code",
   "execution_count": null,
   "metadata": {},
   "outputs": [],
   "source": [
    "chains_dict = get_chains(\n",
    "    event_df,\n",
    "    players_df,\n",
    "    metadata_df,\n",
    "    rosters_df,\n",
    "    skip_challenge_events=False,\n",
    "    use_player_pos=True,\n",
    ")"
   ]
  },
  {
   "cell_type": "code",
   "execution_count": null,
   "metadata": {},
   "outputs": [],
   "source": [
    "accepted_chains = filter_shot_chains(\n",
    "    chains=chains_dict[\"pos_short_chains\"],\n",
    "    chains_range=(200, 231),\n",
    "    event_df=event_df,\n",
    "    players_df=players_df,\n",
    "    metadata_df=metadata_df,\n",
    "    output_dir=\"/home/soccerdata/frames\",\n",
    "    show_video=True,\n",
    "    interval=1000,\n",
    ")"
   ]
  },
  {
   "cell_type": "code",
   "execution_count": null,
   "metadata": {},
   "outputs": [],
   "source": [
    "save_accepted_chains(\n",
    "    accepted_chains=accepted_chains,\n",
    "    dst_dir=\"../soccerai/data/resources\",\n",
    "    are_positive=True,\n",
    ")"
   ]
  },
  {
   "cell_type": "code",
   "execution_count": null,
   "metadata": {},
   "outputs": [],
   "source": [
    "create_dataset(\"dataset.parquet\")"
   ]
  },
  {
   "cell_type": "code",
   "execution_count": null,
   "metadata": {},
   "outputs": [],
   "source": [
    "import polars as pl\n",
    "\n",
    "from soccerai.data.config import DATASET_PATH\n",
    "\n",
    "df = pl.read_parquet(DATASET_PATH)\n",
    "df"
   ]
  },
  {
   "cell_type": "code",
   "execution_count": null,
   "metadata": {},
   "outputs": [],
   "source": []
  }
 ],
 "metadata": {
  "kernelspec": {
   "display_name": "Python 3 (ipykernel)",
   "language": "python",
   "name": "python3"
  },
  "language_info": {
   "codemirror_mode": {
    "name": "ipython",
    "version": 3
   },
   "file_extension": ".py",
   "mimetype": "text/x-python",
   "name": "python",
   "nbconvert_exporter": "python",
   "pygments_lexer": "ipython3",
   "version": "3.11.11"
  }
 },
 "nbformat": 4,
 "nbformat_minor": 4
}
