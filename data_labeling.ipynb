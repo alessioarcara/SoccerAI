{
 "cells": [
  {
   "cell_type": "code",
   "execution_count": null,
   "metadata": {},
   "outputs": [],
   "source": [
    "%load_ext autoreload\n",
    "%autoreload 2\n",
    "from data.data import load_and_process_metadata, load_and_process_soccer_events\n",
    "from data.label import filter_shot_chains, neg_labeling, pos_labeling"
   ]
  },
  {
   "cell_type": "code",
   "execution_count": null,
   "metadata": {},
   "outputs": [],
   "source": [
    "event_df, players_df = load_and_process_soccer_events(\n",
    "    \"/home/soccerdata/FIFA_WorldCup_2022/Event Data\"\n",
    ")\n",
    "metadata_df = load_and_process_metadata(\"/home/soccerdata/FIFA_WorldCup_2022/Metadata\")"
   ]
  },
  {
   "cell_type": "code",
   "execution_count": null,
   "metadata": {},
   "outputs": [],
   "source": [
    "chain_len = 6\n",
    "pos_chains = pos_labeling(event_df, chain_len)\n",
    "neg_chains = neg_labeling(\n",
    "    event_df, players_df, metadata_df, pos_chains, chain_len, 25.0\n",
    ")"
   ]
  },
  {
   "cell_type": "code",
   "execution_count": null,
   "metadata": {},
   "outputs": [],
   "source": [
    "accepted_chains = filter_shot_chains(\n",
    "    chains=neg_chains,\n",
    "    chains_range=(10, 20),\n",
    "    event_df=event_df,\n",
    "    players_df=players_df,\n",
    "    metadata_df=metadata_df,\n",
    "    output_dir=\"/home/soccerdata/frames\",\n",
    "    show_video=True,\n",
    "    interval=1000,\n",
    ")"
   ]
  },
  {
   "cell_type": "code",
   "execution_count": null,
   "metadata": {},
   "outputs": [],
   "source": []
  }
 ],
 "metadata": {
  "kernelspec": {
   "display_name": "soccerai",
   "language": "python",
   "name": "python3"
  },
  "language_info": {
   "codemirror_mode": {
    "name": "ipython",
    "version": 3
   },
   "file_extension": ".py",
   "mimetype": "text/x-python",
   "name": "python",
   "nbconvert_exporter": "python",
   "pygments_lexer": "ipython3",
   "version": "3.11.11"
  }
 },
 "nbformat": 4,
 "nbformat_minor": 4
}
