{
 "cells": [
  {
   "cell_type": "code",
   "execution_count": null,
   "metadata": {},
   "outputs": [],
   "source": [
    "%load_ext autoreload\n",
    "%autoreload 2\n",
    "from visualize import (\n",
    "    plot_players_with_numbers,\n",
    "    visualize_frame,\n",
    "    shot_frames_navigator,\n",
    "    animate_pitch,\n",
    "    label_shot_chains_with_options\n",
    ")\n",
    "from data import load_and_process_soccer_events, load_and_process_metadata\n",
    "from label import pos_labeling\n",
    "from IPython.display import HTML"
   ]
  },
  {
   "cell_type": "code",
   "execution_count": null,
   "metadata": {},
   "outputs": [],
   "source": [
    "event_df, players_df = load_and_process_soccer_events(\"/home/soccerdata/FIFA_WorldCup_2022/Event Data\")\n",
    "metadata_df = load_and_process_metadata(\"/home/soccerdata/FIFA_WorldCup_2022/Metadata\")"
   ]
  },
  {
   "cell_type": "code",
   "execution_count": null,
   "metadata": {},
   "outputs": [],
   "source": [
    "pos_chains = pos_labeling(event_df, chain_len=6)"
   ]
  },
  {
   "cell_type": "code",
   "execution_count": null,
   "metadata": {},
   "outputs": [],
   "source": [
    "anim = animate_pitch(pos_chains[10], event_df, players_df, metadata_df, interval=500)\n",
    "HTML(anim.to_jshtml())"
   ]
  },
  {
   "cell_type": "code",
   "execution_count": null,
   "metadata": {},
   "outputs": [],
   "source": [
    "accepted_chains = label_shot_chains_with_options(\n",
    "    chains=pos_chains,                \n",
    "    chain_range=(0, 3),  \n",
    "    event_df=event_df,\n",
    "    players_df=players_df,\n",
    "    metadata_df=metadata_df,\n",
    "    output_dir=\"/home/soccerdata/frames\",\n",
    "    show_video=True,\n",
    "    interval=1000\n",
    ")"
   ]
  }
 ],
 "metadata": {
  "kernelspec": {
   "display_name": "base",
   "language": "python",
   "name": "python3"
  },
  "language_info": {
   "codemirror_mode": {
    "name": "ipython",
    "version": 3
   },
   "file_extension": ".py",
   "mimetype": "text/x-python",
   "name": "python",
   "nbconvert_exporter": "python",
   "pygments_lexer": "ipython3",
   "version": "3.12.9"
  }
 },
 "nbformat": 4,
 "nbformat_minor": 4
}
