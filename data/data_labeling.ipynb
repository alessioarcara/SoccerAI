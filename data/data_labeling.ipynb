{
 "cells": [
  {
   "cell_type": "code",
   "execution_count": null,
   "metadata": {},
   "outputs": [],
   "source": [
    "%load_ext autoreload\n",
    "%autoreload 2\n",
    "from data import load_and_process_soccer_events, load_and_process_metadata, load_and_process_roosters\n",
    "from enrich import enrich_roosters\n",
    "from config import TEAM_ABBREVS"
   ]
  },
  {
   "cell_type": "code",
   "execution_count": null,
   "metadata": {},
   "outputs": [],
   "source": [
    "event_df, players_df = load_and_process_soccer_events(\"/home/soccerdata/FIFA_WorldCup_2022/Event Data\")\n",
    "metadata_df = load_and_process_metadata(\"/home/soccerdata/FIFA_WorldCup_2022/Metadata\")"
   ]
  },
  {
   "cell_type": "code",
   "execution_count": null,
   "metadata": {},
   "outputs": [],
   "source": [
    "# 808 unique players, some teams have less than 26 players. \n",
    "rooster_df = load_and_process_roosters(\"/home/soccerdata/FIFA_WorldCup_2022/Rosters\")\n",
    "rooster_df"
   ]
  },
  {
   "cell_type": "code",
   "execution_count": null,
   "metadata": {},
   "outputs": [],
   "source": [
    "import polars as pl\n",
    "teams_to_enrich = list(TEAM_ABBREVS.keys())"
   ]
  },
  {
   "cell_type": "markdown",
   "metadata": {},
   "source": [
    "Setup and Run Transfermarkt API:\n",
    "\n",
    "1. git clone git@github.com:felipeall/transfermarkt-api.git\n",
    "2. cd transfermarkt-api\n",
    "3. pip install -r transfermarkt-api/requirements.txt\n",
    "4. uvicorn app.main:app --reload\n",
    "\n",
    "The API will be available at http://127.0.0.1:8000."
   ]
  },
  {
   "cell_type": "code",
   "execution_count": null,
   "metadata": {},
   "outputs": [],
   "source": [
    "# use this cell to create an enriched for a specific team csv (changing the index)\n",
    "team_rooster = rooster_df.filter(pl.col(\"playerTeam\") == teams_to_enrich[0])\n",
    "enriched_team_rooster = enrich_roosters(team_rooster)\n",
    "enriched_team_rooster.write_csv(f'teams/{teams_to_enrich[0]}.csv')"
   ]
  },
  {
   "cell_type": "code",
   "execution_count": null,
   "metadata": {},
   "outputs": [],
   "source": [
    "enriched_rooster = enrich_roosters(rooster_df)"
   ]
  }
 ],
 "metadata": {
  "kernelspec": {
   "display_name": "soccerai",
   "language": "python",
   "name": "python3"
  },
  "language_info": {
   "codemirror_mode": {
    "name": "ipython",
    "version": 3
   },
   "file_extension": ".py",
   "mimetype": "text/x-python",
   "name": "python",
   "nbconvert_exporter": "python",
   "pygments_lexer": "ipython3",
   "version": "3.11.11"
  }
 },
 "nbformat": 4,
 "nbformat_minor": 2
}
